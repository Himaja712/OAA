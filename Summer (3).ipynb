{
  "nbformat": 4,
  "nbformat_minor": 0,
  "metadata": {
    "colab": {
      "name": "Summer.ipynb",
      "provenance": []
    },
    "kernelspec": {
      "name": "python3",
      "display_name": "Python 3"
    },
    "language_info": {
      "name": "python"
    }
  },
  "cells": [
    {
      "cell_type": "markdown",
      "metadata": {
        "id": "QJTGz1lifZrq"
      },
      "source": [
        "## Summer Olympics Data Analysis Assignment"
      ]
    },
    {
      "cell_type": "code",
      "metadata": {
        "colab": {
          "base_uri": "https://localhost:8080/",
          "height": 204
        },
        "id": "DzNf8YJ1fgZb",
        "outputId": "97196bd1-e0c4-464c-c299-a620b91407c0"
      },
      "source": [
        "import pandas as pd\n",
        "import numpy as np\n",
        "import matplotlib.pyplot as plt\n",
        "\n",
        "df = pd.read_csv(\"summer.csv\")\n",
        "df.head()"
      ],
      "execution_count": 1,
      "outputs": [
        {
          "output_type": "execute_result",
          "data": {
            "text/html": [
              "<div>\n",
              "<style scoped>\n",
              "    .dataframe tbody tr th:only-of-type {\n",
              "        vertical-align: middle;\n",
              "    }\n",
              "\n",
              "    .dataframe tbody tr th {\n",
              "        vertical-align: top;\n",
              "    }\n",
              "\n",
              "    .dataframe thead th {\n",
              "        text-align: right;\n",
              "    }\n",
              "</style>\n",
              "<table border=\"1\" class=\"dataframe\">\n",
              "  <thead>\n",
              "    <tr style=\"text-align: right;\">\n",
              "      <th></th>\n",
              "      <th>Year</th>\n",
              "      <th>City</th>\n",
              "      <th>Sport</th>\n",
              "      <th>Discipline</th>\n",
              "      <th>Athlete</th>\n",
              "      <th>Country</th>\n",
              "      <th>Gender</th>\n",
              "      <th>Event</th>\n",
              "      <th>Medal</th>\n",
              "    </tr>\n",
              "  </thead>\n",
              "  <tbody>\n",
              "    <tr>\n",
              "      <th>0</th>\n",
              "      <td>1896</td>\n",
              "      <td>Athens</td>\n",
              "      <td>Aquatics</td>\n",
              "      <td>Swimming</td>\n",
              "      <td>HAJOS, Alfred</td>\n",
              "      <td>HUN</td>\n",
              "      <td>Men</td>\n",
              "      <td>100M Freestyle</td>\n",
              "      <td>Gold</td>\n",
              "    </tr>\n",
              "    <tr>\n",
              "      <th>1</th>\n",
              "      <td>1896</td>\n",
              "      <td>Athens</td>\n",
              "      <td>Aquatics</td>\n",
              "      <td>Swimming</td>\n",
              "      <td>HERSCHMANN, Otto</td>\n",
              "      <td>AUT</td>\n",
              "      <td>Men</td>\n",
              "      <td>100M Freestyle</td>\n",
              "      <td>Silver</td>\n",
              "    </tr>\n",
              "    <tr>\n",
              "      <th>2</th>\n",
              "      <td>1896</td>\n",
              "      <td>Athens</td>\n",
              "      <td>Aquatics</td>\n",
              "      <td>Swimming</td>\n",
              "      <td>DRIVAS, Dimitrios</td>\n",
              "      <td>GRE</td>\n",
              "      <td>Men</td>\n",
              "      <td>100M Freestyle For Sailors</td>\n",
              "      <td>Bronze</td>\n",
              "    </tr>\n",
              "    <tr>\n",
              "      <th>3</th>\n",
              "      <td>1896</td>\n",
              "      <td>Athens</td>\n",
              "      <td>Aquatics</td>\n",
              "      <td>Swimming</td>\n",
              "      <td>MALOKINIS, Ioannis</td>\n",
              "      <td>GRE</td>\n",
              "      <td>Men</td>\n",
              "      <td>100M Freestyle For Sailors</td>\n",
              "      <td>Gold</td>\n",
              "    </tr>\n",
              "    <tr>\n",
              "      <th>4</th>\n",
              "      <td>1896</td>\n",
              "      <td>Athens</td>\n",
              "      <td>Aquatics</td>\n",
              "      <td>Swimming</td>\n",
              "      <td>CHASAPIS, Spiridon</td>\n",
              "      <td>GRE</td>\n",
              "      <td>Men</td>\n",
              "      <td>100M Freestyle For Sailors</td>\n",
              "      <td>Silver</td>\n",
              "    </tr>\n",
              "  </tbody>\n",
              "</table>\n",
              "</div>"
            ],
            "text/plain": [
              "   Year    City     Sport  ... Gender                       Event   Medal\n",
              "0  1896  Athens  Aquatics  ...    Men              100M Freestyle    Gold\n",
              "1  1896  Athens  Aquatics  ...    Men              100M Freestyle  Silver\n",
              "2  1896  Athens  Aquatics  ...    Men  100M Freestyle For Sailors  Bronze\n",
              "3  1896  Athens  Aquatics  ...    Men  100M Freestyle For Sailors    Gold\n",
              "4  1896  Athens  Aquatics  ...    Men  100M Freestyle For Sailors  Silver\n",
              "\n",
              "[5 rows x 9 columns]"
            ]
          },
          "metadata": {},
          "execution_count": 1
        }
      ]
    },
    {
      "cell_type": "markdown",
      "metadata": {
        "id": "TlRANRObgea3"
      },
      "source": [
        "## 1. In how many cities Summer Olympics is held so far?"
      ]
    },
    {
      "cell_type": "code",
      "metadata": {
        "colab": {
          "base_uri": "https://localhost:8080/"
        },
        "id": "LrEzp73NggLZ",
        "outputId": "5858065f-b7c2-43c8-be5e-35730e092262"
      },
      "source": [
        "df['City'].unique()"
      ],
      "execution_count": 2,
      "outputs": [
        {
          "output_type": "execute_result",
          "data": {
            "text/plain": [
              "array(['Athens', 'Paris', 'St Louis', 'London', 'Stockholm', 'Antwerp',\n",
              "       'Amsterdam', 'Los Angeles', 'Berlin', 'Helsinki',\n",
              "       'Melbourne / Stockholm', 'Rome', 'Tokyo', 'Mexico', 'Munich',\n",
              "       'Montreal', 'Moscow', 'Seoul', 'Barcelona', 'Atlanta', 'Sydney',\n",
              "       'Beijing'], dtype=object)"
            ]
          },
          "metadata": {},
          "execution_count": 2
        }
      ]
    },
    {
      "cell_type": "code",
      "metadata": {
        "colab": {
          "base_uri": "https://localhost:8080/"
        },
        "id": "uBfj7RsshBA-",
        "outputId": "da313adf-8957-432e-9708-116a415ffe58"
      },
      "source": [
        "len(df['City'].unique())"
      ],
      "execution_count": 3,
      "outputs": [
        {
          "output_type": "execute_result",
          "data": {
            "text/plain": [
              "22"
            ]
          },
          "metadata": {},
          "execution_count": 3
        }
      ]
    },
    {
      "cell_type": "markdown",
      "metadata": {
        "id": "fwBB2QzihEI7"
      },
      "source": [
        "## 2. Which sport is having most number of Gold Medals so far? (Top 5)"
      ]
    },
    {
      "cell_type": "code",
      "metadata": {
        "colab": {
          "base_uri": "https://localhost:8080/"
        },
        "id": "HD2hMWs_lC5p",
        "outputId": "645b49d6-aba3-4af1-93d2-6c973df5ecbd"
      },
      "source": [
        "gold = df[df['Medal']=='Gold']\n",
        "data = []\n",
        "for sport in gold['Sport'].unique():\n",
        "    data.append([sport, len(gold[gold['Sport'] == sport])])\n",
        "data = pd.DataFrame(data, columns = ['Sport','Gold'])\n",
        "\n",
        "data = data.sort_values(by = 'Gold', ascending = False).head()\n",
        "print(data)\n"
      ],
      "execution_count": 23,
      "outputs": [
        {
          "output_type": "stream",
          "name": "stdout",
          "text": [
            "         Sport  Gold\n",
            "0     Aquatics  1421\n",
            "1    Athletics  1215\n",
            "17      Rowing   890\n",
            "4   Gymnastics   820\n",
            "3      Fencing   552\n"
          ]
        }
      ]
    },
    {
      "cell_type": "code",
      "metadata": {
        "colab": {
          "base_uri": "https://localhost:8080/",
          "height": 399
        },
        "id": "jExEpv4HpetI",
        "outputId": "15270694-2ee6-46c4-cf41-7c9532feed3a"
      },
      "source": [
        "data.plot(x = 'Sport', y = 'Gold', kind = 'bar', figsize = (5,5))"
      ],
      "execution_count": 24,
      "outputs": [
        {
          "output_type": "execute_result",
          "data": {
            "text/plain": [
              "<matplotlib.axes._subplots.AxesSubplot at 0x7fdd593e27d0>"
            ]
          },
          "metadata": {},
          "execution_count": 24
        },
        {
          "output_type": "display_data",
          "data": {
            "image/png": "[encoded data removed]",
            "text/plain": [
              "<Figure size 360x360 with 1 Axes>"
            ]
          },
          "metadata": {
            "needs_background": "light"
          }
        }
      ]
    },
    {
      "cell_type": "markdown",
      "metadata": {
        "id": "K1Tx_BHGDe_g"
      },
      "source": [
        "## 3. Which sport is having most number of medals so far? (Top 5)"
      ]
    },
    {
      "cell_type": "code",
      "metadata": {
        "colab": {
          "base_uri": "https://localhost:8080/"
        },
        "id": "OzLodLl7hItk",
        "outputId": "bbbe3027-d632-495d-c09e-b726831a3566"
      },
      "source": [
        "data = []\n",
        "\n",
        "for sport in df['Sport'].unique():\n",
        "    data.append([sport , len(df[df['Sport']  == sport])])\n",
        "\n",
        "data = pd.DataFrame(data,columns = ['Sport','freq'])\n",
        "data = data.sort_values(by='freq', ascending=False).head()\n",
        "print(data)"
      ],
      "execution_count": 9,
      "outputs": [
        {
          "output_type": "stream",
          "name": "stdout",
          "text": [
            "         Sport  freq\n",
            "0     Aquatics  4170\n",
            "1    Athletics  3638\n",
            "17      Rowing  2667\n",
            "4   Gymnastics  2307\n",
            "3      Fencing  1613\n"
          ]
        }
      ]
    },
    {
      "cell_type": "code",
      "metadata": {
        "colab": {
          "base_uri": "https://localhost:8080/",
          "height": 399
        },
        "id": "Thx98NGUqS4g",
        "outputId": "6a565af6-6efd-46c6-cfa6-d80204d75186"
      },
      "source": [
        "data.plot(x = 'Sport', y = 'freq', kind = 'bar', figsize = (5,5))"
      ],
      "execution_count": 10,
      "outputs": [
        {
          "output_type": "execute_result",
          "data": {
            "text/plain": [
              "<matplotlib.axes._subplots.AxesSubplot at 0x7fdd59557a10>"
            ]
          },
          "metadata": {},
          "execution_count": 10
        },
        {
          "output_type": "display_data",
          "data": {
            "image/png": "[encoded data removed]",
            "text/plain": [
              "<Figure size 360x360 with 1 Axes>"
            ]
          },
          "metadata": {
            "needs_background": "light"
          }
        }
      ]
    },
    {
      "cell_type": "markdown",
      "metadata": {
        "id": "D2qVyCVLD-WB"
      },
      "source": [
        "## 4. Which player has won most number of medals? (Top 5)"
      ]
    },
    {
      "cell_type": "code",
      "metadata": {
        "colab": {
          "base_uri": "https://localhost:8080/"
        },
        "id": "-9Zn2kCfEB76",
        "outputId": "b341a80c-80a1-4149-df4e-fbca591ee8ed"
      },
      "source": [
        "data = []\n",
        "\n",
        "for athlete in df['Athlete'].unique():\n",
        "    data.append([athlete , len(df[df['Athlete']  == athlete])])\n",
        "\n",
        "data = pd.DataFrame(data,columns = ['Athlete','freq'])\n",
        "data = data.sort_values(by='freq', ascending=False).head()\n",
        "print(data)"
      ],
      "execution_count": 11,
      "outputs": [
        {
          "output_type": "stream",
          "name": "stdout",
          "text": [
            "                    Athlete  freq\n",
            "18640       PHELPS, Michael    22\n",
            "7197       LATYNINA, Larisa    18\n",
            "9948     ANDRIANOV, Nikolay    15\n",
            "6591           ONO, Takashi    13\n",
            "5103   MANGIAROTTI, Edoardo    13\n"
          ]
        }
      ]
    },
    {
      "cell_type": "code",
      "metadata": {
        "colab": {
          "base_uri": "https://localhost:8080/",
          "height": 458
        },
        "id": "0GcdqUCoqw4h",
        "outputId": "1aedc574-e52e-4ea0-e462-6e927a999f13"
      },
      "source": [
        "data.plot(x = 'Athlete', y = 'freq', kind = 'bar', figsize = (5,5))"
      ],
      "execution_count": 12,
      "outputs": [
        {
          "output_type": "execute_result",
          "data": {
            "text/plain": [
              "<matplotlib.axes._subplots.AxesSubplot at 0x7fdd5940f250>"
            ]
          },
          "metadata": {},
          "execution_count": 12
        },
        {
          "output_type": "display_data",
          "data": {
            "image/png": "[encoded data removed]",
            "text/plain": [
              "<Figure size 360x360 with 1 Axes>"
            ]
          },
          "metadata": {
            "needs_background": "light"
          }
        }
      ]
    },
    {
      "cell_type": "markdown",
      "metadata": {
        "id": "dk9WGbKyGG0x"
      },
      "source": [
        "## 5. Which player has won most number Gold Medals of medals? (Top 5)"
      ]
    },
    {
      "cell_type": "code",
      "metadata": {
        "id": "KJSQea-sGIQC",
        "colab": {
          "base_uri": "https://localhost:8080/"
        },
        "outputId": "8f14a69b-a36b-4a8b-c9ca-006ecefb297b"
      },
      "source": [
        "gold = df[df['Medal']=='Gold']\n",
        "data = []\n",
        "for athlete in gold['Athlete'].unique():\n",
        "    data.append([athlete, len(gold[gold['Athlete'] == athlete])])\n",
        "    \n",
        "data = pd.DataFrame(data, columns = ['Athlete','Gold'])\n",
        "data = data.sort_values(by = 'Gold', ascending = False).head()\n",
        "print(data)\n"
      ],
      "execution_count": 13,
      "outputs": [
        {
          "output_type": "stream",
          "name": "stdout",
          "text": [
            "               Athlete  Gold\n",
            "6851   PHELPS, Michael    18\n",
            "3320       SPITZ, Mark     9\n",
            "2714  LATYNINA, Larisa     9\n",
            "4630       LEWIS, Carl     9\n",
            "907       NURMI, Paavo     9\n"
          ]
        }
      ]
    },
    {
      "cell_type": "code",
      "metadata": {
        "colab": {
          "base_uri": "https://localhost:8080/",
          "height": 426
        },
        "id": "XuBgk1HLrZyo",
        "outputId": "8decba53-bff0-4c64-fac5-1237be4cecb9"
      },
      "source": [
        "data.plot(x = 'Athlete', y = 'Gold', kind = 'bar', figsize = (5,5))"
      ],
      "execution_count": 15,
      "outputs": [
        {
          "output_type": "execute_result",
          "data": {
            "text/plain": [
              "<matplotlib.axes._subplots.AxesSubplot at 0x7fdd5941a0d0>"
            ]
          },
          "metadata": {},
          "execution_count": 15
        },
        {
          "output_type": "display_data",
          "data": {
            "image/png": "[encoded data removed]",
            "text/plain": [
              "<Figure size 360x360 with 1 Axes>"
            ]
          },
          "metadata": {
            "needs_background": "light"
          }
        }
      ]
    },
    {
      "cell_type": "markdown",
      "metadata": {
        "id": "cwDI0ajHGKnI"
      },
      "source": [
        "## 6. In which year India won first Gold Medal in Summer Olympics?"
      ]
    },
    {
      "cell_type": "code",
      "metadata": {
        "colab": {
          "base_uri": "https://localhost:8080/"
        },
        "id": "B9WnyBZYGPSO",
        "outputId": "98a8e9c9-41c1-4a52-b4c7-93ebd9210cb3"
      },
      "source": [
        "India = df[df['Country']=='IND']\n",
        "\n",
        "gold = India[India['Medal']=='Gold']\n",
        "\n",
        "data = []\n",
        "for ind in gold['Year'].unique():\n",
        "    data.append(ind)\n",
        "\n",
        "print(data[0])"
      ],
      "execution_count": 17,
      "outputs": [
        {
          "output_type": "stream",
          "name": "stdout",
          "text": [
            "1928\n"
          ]
        }
      ]
    },
    {
      "cell_type": "markdown",
      "metadata": {
        "id": "jT-syUlKHBT-"
      },
      "source": [
        "## 7. Which event is most popular in terms on number of players? (Top 5)"
      ]
    },
    {
      "cell_type": "code",
      "metadata": {
        "colab": {
          "base_uri": "https://localhost:8080/"
        },
        "id": "N1vwWsbsHDDm",
        "outputId": "8ee0b93f-a563-4bee-b480-d9e093af6a94"
      },
      "source": [
        "data = []\n",
        "\n",
        "for event in df['Event'].unique():\n",
        "    data.append([event , len(df[df['Event']  == event])])\n",
        "\n",
        "data = pd.DataFrame(data,columns = ['Event','freq'])\n",
        "data = data.sort_values(by='freq', ascending=False).head()\n",
        "print(data)"
      ],
      "execution_count": 18,
      "outputs": [
        {
          "output_type": "stream",
          "name": "stdout",
          "text": [
            "                Event  freq\n",
            "80           Football  1497\n",
            "176            Hockey  1422\n",
            "138  Team Competition  1147\n",
            "327        Basketball  1012\n",
            "337          Handball   973\n"
          ]
        }
      ]
    },
    {
      "cell_type": "code",
      "metadata": {
        "colab": {
          "base_uri": "https://localhost:8080/",
          "height": 431
        },
        "id": "o1PbVSuvsbIj",
        "outputId": "511d1cc8-72bd-4240-9e03-bf92a52e1864"
      },
      "source": [
        "data.plot(x = 'Event', y = 'freq', kind = 'bar', figsize = (5,5))"
      ],
      "execution_count": 19,
      "outputs": [
        {
          "output_type": "execute_result",
          "data": {
            "text/plain": [
              "<matplotlib.axes._subplots.AxesSubplot at 0x7fdd591ceed0>"
            ]
          },
          "metadata": {},
          "execution_count": 19
        },
        {
          "output_type": "display_data",
          "data": {
            "image/png": "[encoded data removed]",
            "text/plain": [
              "<Figure size 360x360 with 1 Axes>"
            ]
          },
          "metadata": {
            "needs_background": "light"
          }
        }
      ]
    },
    {
      "cell_type": "markdown",
      "metadata": {
        "id": "Q8H08CvyHc4L"
      },
      "source": [
        "## 8. Which sport is having most female Gold Medalists? (Top 5)"
      ]
    },
    {
      "cell_type": "code",
      "metadata": {
        "id": "M9NcoEUaHeX0",
        "colab": {
          "base_uri": "https://localhost:8080/"
        },
        "outputId": "40d83f78-2f5b-49ee-8fa8-66c245f70990"
      },
      "source": [
        "Female = df[df['Gender']=='Women']\n",
        "fem = Female[Female['Medal']=='Gold']\n",
        "\n",
        "data = []\n",
        "for athlete in fem['Sport'].unique():\n",
        "    data.append([athlete, len(fem[fem['Sport'] == athlete])])\n",
        "\n",
        "data = pd.DataFrame(data, columns = ['Sport', 'freq'])\n",
        "data = data.sort_values(by = 'freq', ascending = False).head()\n",
        "print(data)"
      ],
      "execution_count": 20,
      "outputs": [
        {
          "output_type": "stream",
          "name": "stdout",
          "text": [
            "         Sport  freq\n",
            "4     Aquatics   589\n",
            "7    Athletics   389\n",
            "8   Gymnastics   268\n",
            "14      Rowing   217\n",
            "11  Volleyball   166\n"
          ]
        }
      ]
    },
    {
      "cell_type": "code",
      "metadata": {
        "colab": {
          "base_uri": "https://localhost:8080/",
          "height": 399
        },
        "id": "yFJ_rLIgs-87",
        "outputId": "65a4ced3-6287-4e2e-e387-0c5abf5fe00a"
      },
      "source": [
        "data.plot(x = 'Sport', y = 'freq', kind = 'bar', figsize = (5,5))"
      ],
      "execution_count": 22,
      "outputs": [
        {
          "output_type": "execute_result",
          "data": {
            "text/plain": [
              "<matplotlib.axes._subplots.AxesSubplot at 0x7fdd59499bd0>"
            ]
          },
          "metadata": {},
          "execution_count": 22
        },
        {
          "output_type": "display_data",
          "data": {
            "image/png": "[encoded data removed]",
            "text/plain": [
              "<Figure size 360x360 with 1 Axes>"
            ]
          },
          "metadata": {
            "needs_background": "light"
          }
        }
      ]
    }
  ]
}